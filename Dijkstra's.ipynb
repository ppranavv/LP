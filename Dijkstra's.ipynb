{
 "cells": [
  {
   "cell_type": "code",
   "execution_count": 2,
   "id": "d4076bea",
   "metadata": {},
   "outputs": [
    {
     "name": "stdout",
     "output_type": "stream",
     "text": [
      "Vertex \t Distance from Source\n",
      "0 \t\t 0\n",
      "1 \t\t 4\n",
      "2 \t\t 12\n",
      "3 \t\t 19\n",
      "4 \t\t 21\n",
      "5 \t\t 11\n",
      "6 \t\t 9\n",
      "7 \t\t 8\n",
      "8 \t\t 14\n"
     ]
    }
   ],
   "source": [
    "class Graph():\n",
    "\n",
    "\tdef __init__(self, vertices):\n",
    "\t\tself.V = vertices\n",
    "\t\tself.graph = [[0 for column in range(vertices)]\n",
    "\t\t\t\t\tfor row in range(vertices)]\n",
    "\n",
    "\tdef printSolution(self, dist):\n",
    "\t\tprint(\"Vertex \\t Distance from Source\")\n",
    "\t\tfor node in range(self.V):\n",
    "\t\t\tprint(node, \"\\t\\t\", dist[node])\n",
    "\n",
    "\tdef minDistance(self, dist, sptSet):\n",
    "\n",
    "\t\tmin = 1e7\n",
    "\n",
    "\t\tfor v in range(self.V):\n",
    "\t\t\tif dist[v] < min and sptSet[v] == False:\n",
    "\t\t\t\tmin = dist[v]\n",
    "\t\t\t\tmin_index = v\n",
    "\n",
    "\t\treturn min_index\n",
    "\n",
    "\tdef dijkstra(self, src):\n",
    "\n",
    "\t\tdist = [1e7] * self.V\n",
    "\t\tdist[src] = 0\n",
    "\t\tsptSet = [False] * self.V\n",
    "\n",
    "\t\tfor cout in range(self.V):\n",
    "\n",
    "\t\t\tu = self.minDistance(dist, sptSet)\n",
    "\n",
    "\t\t\tsptSet[u] = True\n",
    "\n",
    "\t\t\tfor v in range(self.V):\n",
    "\t\t\t\tif (self.graph[u][v] > 0 and\n",
    "\t\t\t\tsptSet[v] == False and\n",
    "\t\t\t\tdist[v] > dist[u] + self.graph[u][v]):\n",
    "\t\t\t\t\tdist[v] = dist[u] + self.graph[u][v]\n",
    "\n",
    "\t\tself.printSolution(dist)\n",
    "\n",
    "g = Graph(9)\n",
    "g.graph = [[0, 4, 0, 0, 0, 0, 0, 8, 0],\n",
    "\t\t[4, 0, 8, 0, 0, 0, 0, 11, 0],\n",
    "\t\t[0, 8, 0, 7, 0, 4, 0, 0, 2],\n",
    "\t\t[0, 0, 7, 0, 9, 14, 0, 0, 0],\n",
    "\t\t[0, 0, 0, 9, 0, 10, 0, 0, 0],\n",
    "\t\t[0, 0, 4, 14, 10, 0, 2, 0, 0],\n",
    "\t\t[0, 0, 0, 0, 0, 2, 0, 1, 6],\n",
    "\t\t[8, 11, 0, 0, 0, 0, 1, 0, 7],\n",
    "\t\t[0, 0, 2, 0, 0, 0, 6, 7, 0]\n",
    "\t\t]\n",
    "\n",
    "g.dijkstra(0)\n",
    "\n",
    "\n"
   ]
  }
 ],
 "metadata": {
  "kernelspec": {
   "display_name": "Python 3 (ipykernel)",
   "language": "python",
   "name": "python3"
  },
  "language_info": {
   "codemirror_mode": {
    "name": "ipython",
    "version": 3
   },
   "file_extension": ".py",
   "mimetype": "text/x-python",
   "name": "python",
   "nbconvert_exporter": "python",
   "pygments_lexer": "ipython3",
   "version": "3.10.11"
  }
 },
 "nbformat": 4,
 "nbformat_minor": 5
}
