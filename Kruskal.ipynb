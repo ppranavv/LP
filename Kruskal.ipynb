{
 "cells": [
  {
   "cell_type": "code",
   "execution_count": 1,
   "id": "5db29418",
   "metadata": {},
   "outputs": [
    {
     "name": "stdout",
     "output_type": "stream",
     "text": [
      "Edges in the constructed MST\n",
      "2 -- 3 == 4\n",
      "0 -- 3 == 5\n",
      "0 -- 1 == 10\n",
      "Minimum Spanning Tree 19\n"
     ]
    }
   ],
   "source": [
    "class Graph:\n",
    "\n",
    "\tdef __init__(self, vertices):\n",
    "\t\tself.V = vertices\n",
    "\t\tself.graph = []\n",
    "\n",
    "\tdef addEdge(self, u, v, w):\n",
    "\t\tself.graph.append([u, v, w])\n",
    "\n",
    "\tdef find(self, parent, i):\n",
    "\t\tif parent[i] != i:\n",
    "\n",
    "\t\t\tparent[i] = self.find(parent, parent[i])\n",
    "\t\treturn parent[i]\n",
    "\n",
    "\tdef union(self, parent, rank, x, y):\n",
    "\n",
    "\t\tif rank[x] < rank[y]:\n",
    "\t\t\tparent[x] = y\n",
    "\t\telif rank[x] > rank[y]:\n",
    "\t\t\tparent[y] = x\n",
    "\n",
    "\t\telse:\n",
    "\t\t\tparent[y] = x\n",
    "\t\t\trank[x] += 1\n",
    "\n",
    "\tdef KruskalMST(self):\n",
    "\n",
    "\t\tresult = []\n",
    "\n",
    "\t\ti = 0\n",
    "\n",
    "\t\te = 0\n",
    "\n",
    "\t\tself.graph = sorted(self.graph,\n",
    "\t\t\t\t\t\t\tkey=lambda item: item[2])\n",
    "\n",
    "\t\tparent = []\n",
    "\t\trank = []\n",
    "\n",
    "\t\tfor node in range(self.V):\n",
    "\t\t\tparent.append(node)\n",
    "\t\t\trank.append(0)\n",
    "\n",
    "\t\twhile e < self.V - 1:\n",
    "\n",
    "\t\t\tu, v, w = self.graph[i]\n",
    "\t\t\ti = i + 1\n",
    "\t\t\tx = self.find(parent, u)\n",
    "\t\t\ty = self.find(parent, v)\n",
    "\n",
    "\t\t\tif x != y:\n",
    "\t\t\t\te = e + 1\n",
    "\t\t\t\tresult.append([u, v, w])\n",
    "\t\t\t\tself.union(parent, rank, x, y)\n",
    "\n",
    "\t\tminimumCost = 0\n",
    "\t\tprint(\"Edges in the constructed MST\")\n",
    "\t\tfor u, v, weight in result:\n",
    "\t\t\tminimumCost += weight\n",
    "\t\t\tprint(\"%d -- %d == %d\" % (u, v, weight))\n",
    "\t\tprint(\"Minimum Spanning Tree\", minimumCost)\n",
    "\n",
    "if __name__ == '__main__':\n",
    "\tg = Graph(4)\n",
    "\tg.addEdge(0, 1, 10)\n",
    "\tg.addEdge(0, 2, 6)\n",
    "\tg.addEdge(0, 3, 5)\n",
    "\tg.addEdge(1, 3, 15)\n",
    "\tg.addEdge(2, 3, 4)\n",
    "\n",
    "\tg.KruskalMST()"
   ]
  }
 ],
 "metadata": {
  "kernelspec": {
   "display_name": "Python 3 (ipykernel)",
   "language": "python",
   "name": "python3"
  },
  "language_info": {
   "codemirror_mode": {
    "name": "ipython",
    "version": 3
   },
   "file_extension": ".py",
   "mimetype": "text/x-python",
   "name": "python",
   "nbconvert_exporter": "python",
   "pygments_lexer": "ipython3",
   "version": "3.10.11"
  }
 },
 "nbformat": 4,
 "nbformat_minor": 5
}
