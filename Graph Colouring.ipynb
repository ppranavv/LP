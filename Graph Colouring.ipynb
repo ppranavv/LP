{
 "cells": [
  {
   "cell_type": "code",
   "execution_count": 2,
   "id": "21ee0e44",
   "metadata": {},
   "outputs": [
    {
     "name": "stdout",
     "output_type": "stream",
     "text": [
      "Minimum number of colors needed: 3\n",
      "Coloring solution: [1, 2, 3, 2]\n"
     ]
    }
   ],
   "source": [
    "class GraphColoring:\n",
    "    def __init__(self, graph):\n",
    "        self.graph = graph\n",
    "        self.num_vertices = len(graph)\n",
    "        self.colors = [0] * self.num_vertices\n",
    "        self.solution = None\n",
    "        self.min_colors = float('inf')\n",
    "\n",
    "    def is_safe(self, vertex, color):\n",
    "        for i in range(self.num_vertices):\n",
    "            if self.graph[vertex][i] and self.colors[i] == color:\n",
    "                return False\n",
    "        return True\n",
    "\n",
    "    def backtrack(self, vertex):\n",
    "        if vertex == self.num_vertices:\n",
    "            used_colors = set(self.colors)\n",
    "            num_colors = len(used_colors)\n",
    "            if num_colors < self.min_colors:\n",
    "                self.min_colors = num_colors\n",
    "                self.solution = self.colors.copy()\n",
    "            return\n",
    "\n",
    "        for color in range(1, self.num_vertices + 1):\n",
    "            if self.is_safe(vertex, color):\n",
    "                self.colors[vertex] = color\n",
    "                self.backtrack(vertex + 1)\n",
    "                self.colors[vertex] = 0\n",
    "\n",
    "    def solve(self):\n",
    "        self.backtrack(0)\n",
    "        return self.solution, self.min_colors\n",
    "\n",
    "graph = [\n",
    "    [0, 1, 1, 1],\n",
    "    [1, 0, 1, 0],\n",
    "    [1, 1, 0, 1],\n",
    "    [1, 0, 1, 0]\n",
    "]\n",
    "\n",
    "graph_coloring = GraphColoring(graph)\n",
    "solution, min_colors = graph_coloring.solve()\n",
    "\n",
    "print(\"Minimum number of colors needed:\", min_colors)\n",
    "print(\"Coloring solution:\", solution)"
   ]
  }
 ],
 "metadata": {
  "kernelspec": {
   "display_name": "Python 3 (ipykernel)",
   "language": "python",
   "name": "python3"
  },
  "language_info": {
   "codemirror_mode": {
    "name": "ipython",
    "version": 3
   },
   "file_extension": ".py",
   "mimetype": "text/x-python",
   "name": "python",
   "nbconvert_exporter": "python",
   "pygments_lexer": "ipython3",
   "version": "3.10.11"
  }
 },
 "nbformat": 4,
 "nbformat_minor": 5
}
