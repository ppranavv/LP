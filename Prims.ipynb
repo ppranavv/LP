{
 "cells": [
  {
   "cell_type": "code",
   "execution_count": 2,
   "id": "24202323",
   "metadata": {},
   "outputs": [
    {
     "name": "stdout",
     "output_type": "stream",
     "text": [
      "Edge \tWeight\n",
      "0 - 1 \t 2\n",
      "1 - 2 \t 3\n",
      "0 - 3 \t 6\n",
      "1 - 4 \t 5\n"
     ]
    }
   ],
   "source": [
    "import sys\n",
    "\n",
    "class Graph():\n",
    "\n",
    "\tdef __init__(self, vertices):\n",
    "\t\tself.V = vertices\n",
    "\t\tself.graph = [[0 for column in range(vertices)]\n",
    "\t\t\t\t\tfor row in range(vertices)]\n",
    "\n",
    "\tdef printMST(self, parent):\n",
    "\t\tprint(\"Edge \\tWeight\")\n",
    "\t\tfor i in range(1, self.V):\n",
    "\t\t\tprint(parent[i], \"-\", i, \"\\t\", self.graph[i][parent[i]])\n",
    "\n",
    "\tdef minKey(self, key, mstSet):\n",
    "\n",
    "\t\tmin = sys.maxsize\n",
    "\n",
    "\t\tfor v in range(self.V):\n",
    "\t\t\tif key[v] < min and mstSet[v] == False:\n",
    "\t\t\t\tmin = key[v]\n",
    "\t\t\t\tmin_index = v\n",
    "\n",
    "\t\treturn min_index\n",
    "\n",
    "\tdef primMST(self):\n",
    "\n",
    "\t\tkey = [sys.maxsize] * self.V\n",
    "\t\tparent = [None] * self.V \n",
    "\t\tkey[0] = 0\n",
    "\t\tmstSet = [False] * self.V\n",
    "\n",
    "\t\tparent[0] = -1\n",
    "\n",
    "\t\tfor cout in range(self.V):\n",
    "\n",
    "\t\t\tu = self.minKey(key, mstSet)\n",
    "\n",
    "\t\t\tmstSet[u] = True\n",
    "\n",
    "\t\t\tfor v in range(self.V):\n",
    "\n",
    "\t\t\t\tif self.graph[u][v] > 0 and mstSet[v] == False and key[v] > self.graph[u][v]:\n",
    "\t\t\t\t\tkey[v] = self.graph[u][v]\n",
    "\t\t\t\t\tparent[v] = u\n",
    "\n",
    "\t\tself.printMST(parent)\n",
    "\n",
    "\n",
    "if __name__ == '__main__':\n",
    "\tg = Graph(5)\n",
    "\tg.graph = [[0, 2, 0, 6, 0],\n",
    "\t\t\t[2, 0, 3, 8, 5],\n",
    "\t\t\t[0, 3, 0, 0, 7],\n",
    "\t\t\t[6, 8, 0, 0, 9],\n",
    "\t\t\t[0, 5, 7, 9, 0]]\n",
    "\n",
    "\tg.primMST()\n",
    "\n",
    "\t\n"
   ]
  }
 ],
 "metadata": {
  "kernelspec": {
   "display_name": "Python 3 (ipykernel)",
   "language": "python",
   "name": "python3"
  },
  "language_info": {
   "codemirror_mode": {
    "name": "ipython",
    "version": 3
   },
   "file_extension": ".py",
   "mimetype": "text/x-python",
   "name": "python",
   "nbconvert_exporter": "python",
   "pygments_lexer": "ipython3",
   "version": "3.10.11"
  }
 },
 "nbformat": 4,
 "nbformat_minor": 5
}
